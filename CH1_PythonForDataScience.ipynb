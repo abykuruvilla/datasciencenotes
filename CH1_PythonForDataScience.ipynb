{
 "cells": [
  {
   "cell_type": "code",
   "execution_count": 11,
   "metadata": {},
   "outputs": [
    {
     "name": "stdout",
     "output_type": "stream",
     "text": [
      "16\n"
     ]
    }
   ],
   "source": [
    "#Comments use a hash\n",
    "\n",
    "#Exponentiation\n",
    "print(4**2)"
   ]
  },
  {
   "cell_type": "code",
   "execution_count": 12,
   "metadata": {},
   "outputs": [
    {
     "name": "stdout",
     "output_type": "stream",
     "text": [
      "4\n"
     ]
    }
   ],
   "source": [
    "#Modulo\n",
    "print(18%7)"
   ]
  },
  {
   "cell_type": "code",
   "execution_count": 13,
   "metadata": {},
   "outputs": [
    {
     "name": "stdout",
     "output_type": "stream",
     "text": [
      "100\n",
      "True\n",
      "compound\n",
      "compound2\n"
     ]
    }
   ],
   "source": [
    "#Variable assignments\n",
    "savings = 100\n",
    "print(savings)\n",
    "isTrue = True\n",
    "print(isTrue)\n",
    "desc = 'compound'\n",
    "print(desc)\n",
    "desc2 = \"compound2\"\n",
    "print(desc2)"
   ]
  },
  {
   "cell_type": "code",
   "execution_count": 14,
   "metadata": {},
   "outputs": [
    {
     "data": {
      "text/plain": [
       "str"
      ]
     },
     "execution_count": 14,
     "metadata": {},
     "output_type": "execute_result"
    }
   ],
   "source": [
    "#Types of variables\n",
    "type(savings)"
   ]
  },
  {
   "cell_type": "code",
   "execution_count": 16,
   "metadata": {},
   "outputs": [
    {
     "data": {
      "text/plain": [
       "str"
      ]
     },
     "execution_count": 16,
     "metadata": {},
     "output_type": "execute_result"
    }
   ],
   "source": [
    "type(desc)"
   ]
  },
  {
   "cell_type": "code",
   "execution_count": 15,
   "metadata": {},
   "outputs": [
    {
     "data": {
      "text/plain": [
       "bool"
      ]
     },
     "execution_count": 15,
     "metadata": {},
     "output_type": "execute_result"
    }
   ],
   "source": [
    "type(isTrue)"
   ]
  },
  {
   "cell_type": "code",
   "execution_count": 17,
   "metadata": {},
   "outputs": [
    {
     "name": "stdout",
     "output_type": "stream",
     "text": [
      "compoundcompound\n"
     ]
    }
   ],
   "source": [
    "#String concatenation\n",
    "print(desc + desc)"
   ]
  },
  {
   "cell_type": "code",
   "execution_count": 19,
   "metadata": {},
   "outputs": [
    {
     "data": {
      "text/plain": [
       "str"
      ]
     },
     "execution_count": 19,
     "metadata": {},
     "output_type": "execute_result"
    }
   ],
   "source": [
    "type((desc + desc))"
   ]
  },
  {
   "cell_type": "code",
   "execution_count": 20,
   "metadata": {},
   "outputs": [
    {
     "name": "stdout",
     "output_type": "stream",
     "text": [
      "Have a savings of $100\n"
     ]
    }
   ],
   "source": [
    "#Ints and floats must be converted to string for printing\n",
    "savings = 100\n",
    "print(\"Have a savings of $\" + str(savings))"
   ]
  },
  {
   "cell_type": "code",
   "execution_count": 23,
   "metadata": {},
   "outputs": [
    {
     "name": "stdout",
     "output_type": "stream",
     "text": [
      "3.14\n"
     ]
    }
   ],
   "source": [
    "piString = \"3.14\"\n",
    "#Convert to float\n",
    "piFloat = float(piString)\n",
    "print(piFloat)"
   ]
  },
  {
   "cell_type": "code",
   "execution_count": 25,
   "metadata": {},
   "outputs": [
    {
     "name": "stdout",
     "output_type": "stream",
     "text": [
      "3\n"
     ]
    }
   ],
   "source": [
    "#Convert to int\n",
    "piInt = int(piFloat)\n",
    "print(piInt)"
   ]
  },
  {
   "cell_type": "code",
   "execution_count": 26,
   "metadata": {},
   "outputs": [
    {
     "name": "stdout",
     "output_type": "stream",
     "text": [
      "[6.2, 5.1, 4.5, 7.0]\n"
     ]
    }
   ],
   "source": [
    "#List is a collection of values\n",
    "heights = [6.2, 5.1, 4.5, 7.0]\n",
    "print(heights)"
   ]
  },
  {
   "cell_type": "code",
   "execution_count": 27,
   "metadata": {},
   "outputs": [
    {
     "name": "stdout",
     "output_type": "stream",
     "text": [
      "['Asterix', 5.1, 'Obelix', 6.2]\n"
     ]
    }
   ],
   "source": [
    "#Lists can contain different types\n",
    "nameAndHeight = [\"Asterix\", 5.1, \"Obelix\", 6.2]\n",
    "print(nameAndHeight)"
   ]
  },
  {
   "cell_type": "code",
   "execution_count": 28,
   "metadata": {},
   "outputs": [
    {
     "name": "stdout",
     "output_type": "stream",
     "text": [
      "[['Asterix', 5.1], ['Obelix', 6.2]]\n"
     ]
    }
   ],
   "source": [
    "#Lists can comprise of other lists\n",
    "familyNameAndHeight = [[\"Asterix\", 5.1],\n",
    "                      [\"Obelix\", 6.2]]\n",
    "print(familyNameAndHeight)"
   ]
  },
  {
   "cell_type": "code",
   "execution_count": 29,
   "metadata": {},
   "outputs": [
    {
     "name": "stdout",
     "output_type": "stream",
     "text": [
      "5.1\n"
     ]
    }
   ],
   "source": [
    "#Python uses ZERO based indexing to access elements of a list\n",
    "#Prints second element of the list\n",
    "print(nameAndHeight[1])"
   ]
  },
  {
   "cell_type": "code",
   "execution_count": 30,
   "metadata": {},
   "outputs": [
    {
     "name": "stdout",
     "output_type": "stream",
     "text": [
      "6.2\n"
     ]
    }
   ],
   "source": [
    "#You can also access elements from the end of the list using negative indexing\n",
    "#Print last element of the list\n",
    "print(nameAndHeight[-1])"
   ]
  },
  {
   "cell_type": "code",
   "execution_count": 31,
   "metadata": {},
   "outputs": [
    {
     "name": "stdout",
     "output_type": "stream",
     "text": [
      "[5.1, 'Obelix']\n"
     ]
    }
   ],
   "source": [
    "#Printing subsets of a list\n",
    "#Prints elements from index 1 to 2, excludes 3\n",
    "print(nameAndHeight[1:3])"
   ]
  },
  {
   "cell_type": "code",
   "execution_count": 32,
   "metadata": {},
   "outputs": [
    {
     "name": "stdout",
     "output_type": "stream",
     "text": [
      "[5.1, 'Obelix', 6.2]\n"
     ]
    }
   ],
   "source": [
    "#If you leave the ending index, prints from starting index to end of list\n",
    "print(nameAndHeight[1:])"
   ]
  },
  {
   "cell_type": "code",
   "execution_count": 33,
   "metadata": {},
   "outputs": [
    {
     "name": "stdout",
     "output_type": "stream",
     "text": [
      "['Asterix', 5.1]\n"
     ]
    }
   ],
   "source": [
    "#You can also print from the first element to a certain element\n",
    "print(nameAndHeight[:2])"
   ]
  },
  {
   "cell_type": "code",
   "execution_count": 35,
   "metadata": {},
   "outputs": [
    {
     "name": "stdout",
     "output_type": "stream",
     "text": [
      "g\n",
      "['g', 'h']\n"
     ]
    }
   ],
   "source": [
    "#Subset of a list of lists\n",
    "x = [[\"a\", \"b\", \"c\"],\n",
    "     [\"d\", \"e\", \"f\"],\n",
    "     [\"g\", \"h\", \"i\"]]\n",
    "print(x[2][0])\n",
    "print(x[2][:2])"
   ]
  },
  {
   "cell_type": "code",
   "execution_count": 47,
   "metadata": {},
   "outputs": [
    {
     "name": "stdout",
     "output_type": "stream",
     "text": [
      "['a', 'r', 'c', 'd']\n",
      "['a', 'r', 's', 't']\n"
     ]
    }
   ],
   "source": [
    "#Replacing elements in a list\n",
    "y = [\"a\", \"b\", \"c\", \"d\"]\n",
    "y[1] = \"r\"\n",
    "print(y)\n",
    "\n",
    "y[2:] = [\"s\", \"t\"]\n",
    "print(y)"
   ]
  },
  {
   "cell_type": "code",
   "execution_count": 48,
   "metadata": {},
   "outputs": [
    {
     "name": "stdout",
     "output_type": "stream",
     "text": [
      "['a', 'b', 'c', 'd']\n",
      "['a', 'b', 'c', 'd', 'e', 'f']\n"
     ]
    }
   ],
   "source": [
    "#Add elements to a list using the + operator\n",
    "k = [\"a\", \"b\", \"c\", \"d\"]\n",
    "l = k + [\"e\", \"f\"]\n",
    "print(k)\n",
    "print(l)"
   ]
  },
  {
   "cell_type": "code",
   "execution_count": 49,
   "metadata": {},
   "outputs": [
    {
     "name": "stdout",
     "output_type": "stream",
     "text": [
      "['m', 'b', 'c', 'd']\n",
      "['m', 'b', 'c', 'd']\n"
     ]
    }
   ],
   "source": [
    "#A list variable only stores the memory location of the elements of the list\n",
    "#Hence if you say a list variable is equal to another and update the list, it updates the original list\n",
    "k = [\"a\", \"b\", \"c\", \"d\"]\n",
    "l = k\n",
    "l[0] = \"m\"\n",
    "print(l)\n",
    "print(k)"
   ]
  },
  {
   "cell_type": "code",
   "execution_count": 50,
   "metadata": {},
   "outputs": [
    {
     "name": "stdout",
     "output_type": "stream",
     "text": [
      "['a', 'c', 'd']\n"
     ]
    }
   ],
   "source": [
    "#Delete elements of a list\n",
    "m = [\"a\", \"b\", \"c\", \"d\"]\n",
    "del(m[1])\n",
    "print(m)"
   ]
  },
  {
   "cell_type": "code",
   "execution_count": null,
   "metadata": {},
   "outputs": [],
   "source": [
    "#The ; sign is used to place commands on the same line. Example\n",
    "# command1; command2"
   ]
  },
  {
   "cell_type": "code",
   "execution_count": 56,
   "metadata": {},
   "outputs": [
    {
     "name": "stdout",
     "output_type": "stream",
     "text": [
      "Help on built-in function round in module builtins:\n",
      "\n",
      "round(number, ndigits=None)\n",
      "    Round a number to a given precision in decimal digits.\n",
      "    \n",
      "    The return value is an integer if ndigits is omitted or None.  Otherwise\n",
      "    the return value has the same type as the number.  ndigits may be negative.\n",
      "\n"
     ]
    }
   ],
   "source": [
    "# To get help on functions either use the help function or the ? before the function name\n",
    "help(round)\n",
    "?max"
   ]
  },
  {
   "cell_type": "code",
   "execution_count": 57,
   "metadata": {},
   "outputs": [],
   "source": [
    "# Reading the help\n",
    "# ?complex\n",
    "# complex(real[, imag]) -> complex number\n",
    "# Here complex() takes two arguments: real and imag. real is a required argument, imag is an optional argument."
   ]
  },
  {
   "cell_type": "code",
   "execution_count": 4,
   "metadata": {},
   "outputs": [
    {
     "name": "stdout",
     "output_type": "stream",
     "text": [
      "areas =  [11.25, 18.0, 20.0, 10.75, 9.5]\n",
      "areas_copy =  [11.25, 19.0, 20.0, 10.75, 9.5]\n"
     ]
    }
   ],
   "source": [
    "# To create a true explicit copy of a list\n",
    "areas = [11.25, 18.0, 20.0, 10.75, 9.50]\n",
    "areas_copy = list(areas)\n",
    "areas_copy[1] = 19.0\n",
    "print(\"areas = \", areas)\n",
    "print(\"areas_copy = \", areas_copy)"
   ]
  },
  {
   "cell_type": "code",
   "execution_count": 5,
   "metadata": {},
   "outputs": [
    {
     "name": "stdout",
     "output_type": "stream",
     "text": [
      "20.0\n"
     ]
    }
   ],
   "source": [
    "# Using the max function to find the highest value in the list\n",
    "areas = [11.25, 18.0, 20.0, 10.75, 9.50]\n",
    "print(max(areas))"
   ]
  },
  {
   "cell_type": "code",
   "execution_count": 7,
   "metadata": {},
   "outputs": [
    {
     "name": "stdout",
     "output_type": "stream",
     "text": [
      "1.7\n",
      "2\n",
      "1\n"
     ]
    }
   ],
   "source": [
    "# Using the round function\n",
    "\n",
    "# Rounding to one decimal place\n",
    "print(round(1.68, 1))\n",
    "\n",
    "# Rounding without specifying decimal places; rounds to the closest integer\n",
    "print(round(1.68))\n",
    "print(round(1.21))"
   ]
  },
  {
   "cell_type": "code",
   "execution_count": null,
   "metadata": {},
   "outputs": [],
   "source": [
    "# You can store the output of a function call to a variable\n",
    "result = type(3.0)"
   ]
  },
  {
   "cell_type": "code",
   "execution_count": 8,
   "metadata": {},
   "outputs": [
    {
     "name": "stdout",
     "output_type": "stream",
     "text": [
      "5\n"
     ]
    }
   ],
   "source": [
    "# Getting the length of a list\n",
    "areas = [11.25, 18.0, 20.0, 10.75, 9.50]\n",
    "result_length = len(areas)\n",
    "print(result_length)"
   ]
  },
  {
   "cell_type": "code",
   "execution_count": 9,
   "metadata": {},
   "outputs": [
    {
     "name": "stdout",
     "output_type": "stream",
     "text": [
      "Help on built-in function sorted in module builtins:\n",
      "\n",
      "sorted(iterable, /, *, key=None, reverse=False)\n",
      "    Return a new list containing all items from the iterable in ascending order.\n",
      "    \n",
      "    A custom key function can be supplied to customize the sort order, and the\n",
      "    reverse flag can be set to request the result in descending order.\n",
      "\n"
     ]
    }
   ],
   "source": [
    "# There is another way in which Python defines optional parts to a function\n",
    "# sorted() takes three arguments: iterable, key and reverse. \n",
    "# key=None means that if you don't specify the key argument, it will be None.\n",
    "# reverse=False means that if you don't specify the reverse argument, it will be False.\n",
    "help(sorted)"
   ]
  },
  {
   "cell_type": "code",
   "execution_count": 10,
   "metadata": {},
   "outputs": [
    {
     "name": "stdout",
     "output_type": "stream",
     "text": [
      "[20.0, 18.0, 11.25]\n"
     ]
    }
   ],
   "source": [
    "# Sorting in descending order; note: we don't specify the key argument\n",
    "first = [11.25, 18.0, 20.0]\n",
    "desc_sorted = sorted(first, reverse=True)\n",
    "print(desc_sorted)"
   ]
  },
  {
   "cell_type": "code",
   "execution_count": 1,
   "metadata": {},
   "outputs": [
    {
     "data": {
      "text/plain": [
       "2"
      ]
     },
     "execution_count": 1,
     "metadata": {},
     "output_type": "execute_result"
    }
   ],
   "source": [
    "# Methods for lists\n",
    "# To get the index of a list element\n",
    "fam = [\"aaron\", 6.2, \"tom\", 6.0, \"ron\", 5.10]\n",
    "fam.index(\"tom\")"
   ]
  },
  {
   "cell_type": "code",
   "execution_count": 2,
   "metadata": {},
   "outputs": [
    {
     "data": {
      "text/plain": [
       "1"
      ]
     },
     "execution_count": 2,
     "metadata": {},
     "output_type": "execute_result"
    }
   ],
   "source": [
    "# Count the number of times an element occurs in a list\n",
    "fam.count(6.2)"
   ]
  },
  {
   "cell_type": "code",
   "execution_count": 3,
   "metadata": {},
   "outputs": [
    {
     "data": {
      "text/plain": [
       "'Liz'"
      ]
     },
     "execution_count": 3,
     "metadata": {},
     "output_type": "execute_result"
    }
   ],
   "source": [
    "# Capitalize the value of a string\n",
    "sister = \"liz\"\n",
    "sister.capitalize()"
   ]
  },
  {
   "cell_type": "code",
   "execution_count": 4,
   "metadata": {},
   "outputs": [
    {
     "data": {
      "text/plain": [
       "'lisa'"
      ]
     },
     "execution_count": 4,
     "metadata": {},
     "output_type": "execute_result"
    }
   ],
   "source": [
    "# Replace characters of a string\n",
    "sister.replace(\"z\", \"sa\")"
   ]
  },
  {
   "cell_type": "code",
   "execution_count": null,
   "metadata": {},
   "outputs": [],
   "source": [
    "# In Python everything is an object and there are methods associated with each object,\n",
    "# depending on the type of each object"
   ]
  },
  {
   "cell_type": "code",
   "execution_count": 8,
   "metadata": {},
   "outputs": [
    {
     "name": "stdout",
     "output_type": "stream",
     "text": [
      "[11.25, 18.0, 20.0, 25.0]\n",
      "[25.0, 20.0, 18.0, 11.25]\n"
     ]
    }
   ],
   "source": [
    "# Appending values to the list\n",
    "first = [11.25, 18.0, 20.0]\n",
    "first.append(25.0)\n",
    "print(first)\n",
    "# Reverse values of the list\n",
    "first.reverse()\n",
    "print(first)"
   ]
  },
  {
   "cell_type": "code",
   "execution_count": null,
   "metadata": {},
   "outputs": [],
   "source": [
    "# Packages\n",
    "# Package is a directory of Python scripts\n",
    "# Each script is a module\n",
    "# Specify functions, method and types in the script\n",
    "# Thousands of packages like Numpy, Matplotlib and Scikit-learn\n",
    "# To install and use packages locally on your machine use a package installer called \"pip\"\n",
    "# To install pip \n",
    "# a) download get-pip.py\n",
    "# b) python3 get-pip.py\n",
    "# c) pip3 install numpy\n"
   ]
  },
  {
   "cell_type": "code",
   "execution_count": null,
   "metadata": {},
   "outputs": [],
   "source": [
    "# Importing a package\n",
    "import numpy\n"
   ]
  }
 ],
 "metadata": {
  "kernelspec": {
   "display_name": "Python 3",
   "language": "python",
   "name": "python3"
  },
  "language_info": {
   "codemirror_mode": {
    "name": "ipython",
    "version": 3
   },
   "file_extension": ".py",
   "mimetype": "text/x-python",
   "name": "python",
   "nbconvert_exporter": "python",
   "pygments_lexer": "ipython3",
   "version": "3.7.1"
  }
 },
 "nbformat": 4,
 "nbformat_minor": 2
}
